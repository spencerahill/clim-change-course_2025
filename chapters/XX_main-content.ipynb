{
 "cells": [
  {
   "cell_type": "markdown",
   "metadata": {},
   "source": [
    "# Atmosphere basics\n",
    "## Ideal gas\n",
    "To very good approximation, the atmosphere is an [**ideal gas**](https://en.wikipedia.org/wiki/Ideal_gas).\n",
    "\n",
    "An ideal gas is a theoretical gas composed of many randomly moving point particles that are not subject to interparticle interactions.\n",
    "\n",
    "As such its [equation of state](https://en.wikipedia.org/wiki/Equation_of_state)---i.e. the relationship among its [*state variables*](https://en.wikipedia.org/wiki/State_variable) of [pressure](https://en.wikipedia.org/wiki/Pressure) ($p$), [density](https://en.wikipedia.org/wiki/Density) ($\\rho$), and [temperature](https://en.wikipedia.org/wiki/Temperature) ($T$)---is simply the [**ideal gas law**](https://en.wikipedia.org/wiki/Ideal_gas_law): $$p=\\rho R T$$\n",
    "where $R$ is the air's [specific gas constant](https://en.wikipedia.org/wiki/Gas_constant#Specific_gas_constant).\n"
   ]
  },
  {
   "cell_type": "markdown",
   "metadata": {},
   "source": [
    "## Atmospheric composition\n",
    "(Table of atmospheric mass by species)\n",
    "\n",
    "(Plot of global-mean profiles of different species)"
   ]
  },
  {
   "cell_type": "markdown",
   "metadata": {},
   "source": [
    "# Radiative transfer"
   ]
  },
  {
   "cell_type": "markdown",
   "metadata": {},
   "source": [
    "## Blackbody radiation\n",
    "The energy emitted by a **blackbody** depends purely on its temperature.  Specifically:\n",
    "$$E=\\sigma T^4$$\n",
    "where $\\sigma=5.67\\times10^{-8}\\text{J K}^{-1/4}$ is the *Stefan-Boltzmann constant*"
   ]
  },
  {
   "cell_type": "markdown",
   "metadata": {},
   "source": [
    "## Emission height, lapse rate, and surface temperature response to change in atmospheric composition\n",
    "\n",
    "The {term}`emission height` is the height above the surface at which the temperature is equal to the blackbody temperature corresponding to Earth's outgoing longwave radiation (OLR).\n",
    "**Emission height** is determined directly by the atmospheric composition: how many molecules there are of the various greenhouse gases (GHGs)\n",
    "\n",
    "For Earth combining all the GHGs, this is ~5-6 km\n",
    "\n",
    "The {term}`lapse rate` is the change in temperature with height, with sign flipped: $\\Gamma\\equiv-\\partial T/\\partial z$\n",
    "\n",
    "The {term}`troposphere` is the lowest layer of Earth's atmosphere, extending from the surface vertically upwards to around 10-15 km.  Within the troposphere, the lapse rate on average is ~6 K/km: temperatures *decrease* moving up from the surface by, on average, around 6 Kelvin per kilometer.\n"
   ]
  },
  {
   "cell_type": "markdown",
   "metadata": {},
   "source": [
    "## Planetary energy balance\n",
    "Start with blackbody radiation applied to the sun.  If we know its average surface temperature and radius, we can compute its total energy flux using Stefan-Boltzmann (n.b. we can more directly measure its energy output and then infer its surface temperature, correct?)"
   ]
  },
  {
   "cell_type": "markdown",
   "metadata": {},
   "source": [
    "## Spectral\n",
    "\n",
    "### The sun\n",
    "Approximate temperature: 5778 K\n",
    "\n",
    "Can treat it as perfect blackbody, i.e. emissivity is 1\n",
    "\n",
    "### Shortwave vs. longwave spectrum\n",
    "Approximate wavelength ranges over which the sun's vs. Earth's radiation are centered: \n",
    "- Sun: ~100-2000 nm (0.1-2 $\\mu\\text{m}$)\n",
    "- Earth: ~5-80 $\\mu\\text{m}$ "
   ]
  },
  {
   "cell_type": "markdown",
   "metadata": {},
   "source": []
  },
  {
   "cell_type": "markdown",
   "metadata": {},
   "source": [
    "# Clouds\n"
   ]
  },
  {
   "cell_type": "markdown",
   "metadata": {},
   "source": [
    "## Cloud Fundamentals (7.1) \n",
    "\n",
    "### Amounts of water vapor vs. solid and liquid water in Earth's atmosphere\n",
    "\n",
    "### Cloud droplet and cloud ice particle sizes\n",
    "\n",
    "### Cloud phase\n",
    "- liquid: $T>0^\\circ\\text{C}$ (273 K)\n",
    "- mixed-phase: $-38^\\circ\\text{C}<T<0^\\circ\\text{C}$ (235 K < T < 273 K)\n",
    "- ice: $T<-38^\\circ\\text{C}$ (<235 K)\n",
    "\n",
    "Why $-38^\\circ\\text{C}$?\n",
    "\n",
    "### Cloud Radiative Effect (CRE)\n",
    "\n",
    "### Cloud LW absorption\n",
    "Follows from **Beer-Lambert** law for transmission of radiation through an absorbing medium."
   ]
  },
  {
   "cell_type": "markdown",
   "metadata": {},
   "source": [
    "# Sea Level Rise"
   ]
  },
  {
   "cell_type": "markdown",
   "metadata": {},
   "source": [
    "## Thermal expansion\n",
    "Thermal expansion: as water warms, it becomes less dense, thus requiring more volume.\n",
    "\n",
    "So, even if the total mass of liquid water in the ocean remained unchanged---i.e. the ice sheets didn't melt at all, or we lived in a completely ocean covered world with no ice or land at all---as ocean temperatures increase, the water will expand \n",
    "\n",
    "The component of sea level change that is due solely to changes in the seawater *density* is called {term}`steric sea level rise`."
   ]
  },
  {
   "cell_type": "markdown",
   "metadata": {},
   "source": [
    "## Why doesn't sea ice melting matter?\n",
    "\n",
    "Archimedes' Principle: https://en.wikipedia.org/wiki/Archimedes%27_principle"
   ]
  }
 ],
 "metadata": {
  "kernelspec": {
   "display_name": "2025sp-eas488",
   "language": "python",
   "name": "python3"
  },
  "language_info": {
   "codemirror_mode": {
    "name": "ipython",
    "version": 3
   },
   "file_extension": ".py",
   "mimetype": "text/x-python",
   "name": "python",
   "nbconvert_exporter": "python",
   "pygments_lexer": "ipython3",
   "version": "3.12.5"
  }
 },
 "nbformat": 4,
 "nbformat_minor": 2
}
