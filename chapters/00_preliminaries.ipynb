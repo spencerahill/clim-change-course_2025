{
 "cells": [
  {
   "cell_type": "markdown",
   "metadata": {},
   "source": [
    "# Prerequisite concepts\n",
    "## Math basics\n",
    "### Left hand side equals right hand side (LHS = RHS)\n",
    "Any equation, no matter how simple or complex, must uphold that whatever is to the left of the equals sign exactly equals whatever is on the right.  If it doesn't, it's not a valid equation.  So $2+2=4$ is a valid equation, but $2+2=6$ is not.  For the latter, we could use a \"not-equals\" sign: $2+2\\neq6$.\n",
    "\n",
    "### Algebra\n",
    "Because we can always rely on LHS=RHS, we can pretty much do whatever we want to any equation, **as long as we do the exact same thing to the left-hand side and right-hand side**.  We could add one million to both sides; we could divide\n",
    "\n",
    "The only thing that we can't do that matters for this class---even if we do it to both sides---is to divide by zero.  Dividing by zero is not OK, ever.  Dividing by zero will can result in nonsensical results, like that $1=0$.\n",
    "\n",
    "#### Demonstration (Why dividing by zero is problematic)\n",
    "\n",
    "Let $x = 0$. Clearly,\n",
    "$$x \\cdot 1 = x \\cdot 0$$\n",
    "because zero times one is zero and also zero times zero is zero.  LHS=RHS.  So far so good.\n",
    "\n",
    "Now divide both sides by $x$: $$1 = 0$$\n",
    "This result, $1 = 0$, is nonsensical, demonstrating that dividing by zero is invalid.  Beware that, like in this example, dividing by zero can \"sneak in\": dividing both sides by $x$ is usually fine...but in this case $x=0$ so it's a no-no!\n",
    "\n",
    "### Approximate equality\n",
    "\n",
    "### Order of magnitude\n",
    "Often we o\n",
    "\n",
    "### Significant digits\n",
    "\n",
    "## Geometry\n",
    "\n",
    "## Calculus\n",
    "\n",
    "## Physical dimensions, dimensional consistency, and units\n",
    "\n",
    "## Physics\n",
    "**mass** ($m$): how much matter there is.  SI units are kilograms (kg).\n",
    "\n",
    "**volume** ($V$): the amount of space, in three dimensions, taken up by whatever object or portion of the universe you're considering.  SI units are meters cubed, m$^3$.\n",
    "\n",
    "**density** ($\\rho$): Mass divided by volume: $\\rho=m/V$.  SI units are kilograms divided by cubic meter: kg/m$^3$ or, equivalently, kg m$^{-3}$\n",
    "\n",
    "## Thermodynamics\n",
    "### First law of thermodynamics\n",
    "Formally: $$\\Delta U=Q-W$$ where\n",
    "- $\\Delta U$ is the change in **internal energy** of the system\n",
    "-  $Q$ is the **heat** *added* to the system\n",
    "- $W$ is the **work** done *by* the system\n",
    "- the system is closed"
   ]
  }
 ],
 "metadata": {
  "kernelspec": {
   "display_name": "2025sp-eas488",
   "language": "python",
   "name": "python3"
  },
  "language_info": {
   "codemirror_mode": {
    "name": "ipython",
    "version": 3
   },
   "file_extension": ".py",
   "mimetype": "text/x-python",
   "name": "python",
   "nbconvert_exporter": "python",
   "pygments_lexer": "ipython3",
   "version": "3.12.5"
  }
 },
 "nbformat": 4,
 "nbformat_minor": 2
}
